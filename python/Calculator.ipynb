{
 "cells": [
  {
   "cell_type": "code",
   "execution_count": 31,
   "id": "1085f2fd",
   "metadata": {},
   "outputs": [
    {
     "name": "stdout",
     "output_type": "stream",
     "text": [
      "CALCULATOR\n",
      "\n",
      "enter first no :56\n",
      "select operator :+\n",
      "enter second no :44\n",
      "Addition =: 56 + 44 = 100\n",
      "\n",
      "enter first no :67\n",
      "select operator :+\n",
      "enter second no :33\n",
      "Addition =: 67 + 33 = 100\n",
      "\n",
      "enter first no :64\n",
      "select operator :/\n",
      "enter second no :34\n",
      "Subtraction =: 64 / 34 = 1.8823529411764706\n",
      "\n",
      "enter first no :\n"
     ]
    },
    {
     "ename": "ValueError",
     "evalue": "invalid literal for int() with base 10: ''",
     "output_type": "error",
     "traceback": [
      "\u001b[1;31m---------------------------------------------------------------------------\u001b[0m",
      "\u001b[1;31mValueError\u001b[0m                                Traceback (most recent call last)",
      "\u001b[1;32m~\\AppData\\Local\\Temp/ipykernel_8272/880360886.py\u001b[0m in \u001b[0;36m<module>\u001b[1;34m\u001b[0m\n\u001b[0;32m      5\u001b[0m \u001b[1;32mwhile\u001b[0m\u001b[1;33m(\u001b[0m\u001b[1;32mTrue\u001b[0m\u001b[1;33m)\u001b[0m\u001b[1;33m:\u001b[0m\u001b[1;33m\u001b[0m\u001b[1;33m\u001b[0m\u001b[0m\n\u001b[0;32m      6\u001b[0m \u001b[1;33m\u001b[0m\u001b[0m\n\u001b[1;32m----> 7\u001b[1;33m     \u001b[0mfirst\u001b[0m \u001b[1;33m=\u001b[0m\u001b[0mint\u001b[0m\u001b[1;33m(\u001b[0m\u001b[0minput\u001b[0m\u001b[1;33m(\u001b[0m\u001b[1;34m\"\\nenter first no :\"\u001b[0m\u001b[1;33m)\u001b[0m\u001b[1;33m)\u001b[0m\u001b[1;33m\u001b[0m\u001b[1;33m\u001b[0m\u001b[0m\n\u001b[0m\u001b[0;32m      8\u001b[0m \u001b[1;33m\u001b[0m\u001b[0m\n\u001b[0;32m      9\u001b[0m \u001b[1;33m\u001b[0m\u001b[0m\n",
      "\u001b[1;31mValueError\u001b[0m: invalid literal for int() with base 10: ''"
     ]
    }
   ],
   "source": [
    "a='calculator'.upper()\n",
    "print(a)\n",
    "\n",
    "\n",
    "while(True):\n",
    "\n",
    "    first =int(input(\"\\nenter first no :\"))\n",
    "  \n",
    "\n",
    "    op =input(\"select operator :\")\n",
    "\n",
    "    second =int(input(\"enter second no :\"))\n",
    "\n",
    "    if(op=='+'):\n",
    "        print(\"Addition =:\",first,op,second,'=',first+second)\n",
    "\n",
    "    elif(op=='-'):\n",
    "        print(\"Subtraction =:\",first,op,second,'=',first-second)\n",
    "\n",
    "    elif(op=='/'):\n",
    "          print(\"Subtraction =:\",first,op,second,'=',first/second)\n",
    "\n",
    "    elif(op=='*'):\n",
    "          print(\"Subtraction =:\",first,op,second,'=',first*second)\n",
    "\n",
    "    elif(op=='%'):\n",
    "          print(\"Subtraction =:\",first,op,second,'=',first%second)\n"
   ]
  },
  {
   "cell_type": "code",
   "execution_count": null,
   "id": "3decf64d",
   "metadata": {},
   "outputs": [],
   "source": []
  },
  {
   "cell_type": "code",
   "execution_count": null,
   "id": "a554e6a3",
   "metadata": {},
   "outputs": [],
   "source": []
  }
 ],
 "metadata": {
  "kernelspec": {
   "display_name": "Python 3 (ipykernel)",
   "language": "python",
   "name": "python3"
  },
  "language_info": {
   "codemirror_mode": {
    "name": "ipython",
    "version": 3
   },
   "file_extension": ".py",
   "mimetype": "text/x-python",
   "name": "python",
   "nbconvert_exporter": "python",
   "pygments_lexer": "ipython3",
   "version": "3.9.7"
  }
 },
 "nbformat": 4,
 "nbformat_minor": 5
}
