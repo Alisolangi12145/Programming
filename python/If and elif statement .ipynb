{
 "cells": [
  {
   "cell_type": "code",
   "execution_count": 8,
   "id": "f626348b",
   "metadata": {},
   "outputs": [
    {
     "name": "stdout",
     "output_type": "stream",
     "text": [
      "Hello Human whats your name\n",
      "nasir\n",
      "Good to meet you nasir\n",
      "\n",
      "The end\n"
     ]
    }
   ],
   "source": [
    "print(\"Hello Human whats your name\")\n",
    "\n",
    "name=input().lower()\n",
    "\n",
    "if(name=='ali'):\n",
    "    print(\"Aah its you again\",name)\n",
    "    \n",
    "elif(name=='saif'):\n",
    "    print(\"aah its you again\",name)\n",
    "\n",
    "elif(name=='Saad'):\n",
    "    print(\"aah its you again\",name)\n",
    "    \n",
    "elif(name=='razaque'):\n",
    "    print(\"aah its you again\",name)\n",
    "    \n",
    "else:\n",
    "    print(\"Good to meet you but you are not added in \",name)\n",
    "    \n",
    "\n",
    "\n",
    "\n",
    "print(\"\\nThe end\")\n"
   ]
  },
  {
   "cell_type": "code",
   "execution_count": 11,
   "id": "1b338357",
   "metadata": {},
   "outputs": [
    {
     "ename": "NameError",
     "evalue": "name 'find' is not defined",
     "output_type": "error",
     "traceback": [
      "\u001b[1;31m---------------------------------------------------------------------------\u001b[0m",
      "\u001b[1;31mNameError\u001b[0m                                 Traceback (most recent call last)",
      "\u001b[1;32m~\\AppData\\Local\\Temp/ipykernel_10848/387436052.py\u001b[0m in \u001b[0;36m<module>\u001b[1;34m\u001b[0m\n\u001b[1;32m----> 1\u001b[1;33m \u001b[0mdir\u001b[0m\u001b[1;33m(\u001b[0m\u001b[0mfind\u001b[0m\u001b[1;33m)\u001b[0m\u001b[1;33m\u001b[0m\u001b[1;33m\u001b[0m\u001b[0m\n\u001b[0m",
      "\u001b[1;31mNameError\u001b[0m: name 'find' is not defined"
     ]
    }
   ],
   "source": []
  },
  {
   "cell_type": "code",
   "execution_count": null,
   "id": "73fe21d9",
   "metadata": {},
   "outputs": [],
   "source": []
  }
 ],
 "metadata": {
  "kernelspec": {
   "display_name": "Python 3 (ipykernel)",
   "language": "python",
   "name": "python3"
  },
  "language_info": {
   "codemirror_mode": {
    "name": "ipython",
    "version": 3
   },
   "file_extension": ".py",
   "mimetype": "text/x-python",
   "name": "python",
   "nbconvert_exporter": "python",
   "pygments_lexer": "ipython3",
   "version": "3.9.7"
  }
 },
 "nbformat": 4,
 "nbformat_minor": 5
}
