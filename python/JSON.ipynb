{
 "cells": [
  {
   "cell_type": "code",
   "execution_count": 12,
   "id": "b26e6f7b",
   "metadata": {},
   "outputs": [
    {
     "name": "stdout",
     "output_type": "stream",
     "text": [
      "{'Name': 'Razaque', 'address': 'street22 red houe', 'phone': 2282934}\n",
      "<class 'dict'>\n"
     ]
    }
   ],
   "source": [
    "# # this is dictionary \n",
    "\n",
    "book ={}\n",
    "book={\n",
    "    \"Name\" : \"Ali\",\n",
    "    \"address\": \"street13\",\n",
    "    \"phone\": 999537457\n",
    "}\n",
    "\n",
    "\n",
    "# converting  dictionary to string \n",
    "\n",
    "import json\n",
    "s=json.dumps(book)\n",
    "print (s[4])\n",
    "print(type(s))\n",
    "\n",
    "\n",
    " \n",
    "# converting string to dictionary\n",
    "\n",
    "book2  = '{ \"Name\" :\"Razaque\",  \"address\":\"street22 red houe\", \"phone\": 2282934}'\n",
    "\n",
    "import json\n",
    "s=json.loads(book2)\n",
    "print(s)\n",
    "print(type(s))"
   ]
  },
  {
   "cell_type": "code",
   "execution_count": null,
   "id": "073d8388",
   "metadata": {},
   "outputs": [],
   "source": []
  },
  {
   "cell_type": "code",
   "execution_count": null,
   "id": "79b6b39e",
   "metadata": {},
   "outputs": [],
   "source": []
  }
 ],
 "metadata": {
  "kernelspec": {
   "display_name": "Python 3 (ipykernel)",
   "language": "python",
   "name": "python3"
  },
  "language_info": {
   "codemirror_mode": {
    "name": "ipython",
    "version": 3
   },
   "file_extension": ".py",
   "mimetype": "text/x-python",
   "name": "python",
   "nbconvert_exporter": "python",
   "pygments_lexer": "ipython3",
   "version": "3.10.1"
  }
 },
 "nbformat": 4,
 "nbformat_minor": 5
}
