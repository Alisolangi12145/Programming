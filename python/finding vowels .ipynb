{
 "cells": [
  {
   "cell_type": "code",
   "execution_count": null,
   "id": "bf6490f8",
   "metadata": {},
   "outputs": [],
   "source": [
    "string =input(\"enter a name for finding vowels\")\n",
    "\n",
    "\n",
    "# Convert to lowercase\n",
    "\n",
    "# string = \"Abcde\"\n",
    "lowercase = string.lower()\n",
    "\n",
    "\n",
    "vowel_counts = {}\n",
    "\n",
    "for vowel in \"aeiou\":\n",
    "    count = lowercase.count(vowel)\n",
    "Count vowels\n",
    "\n",
    "    vowel_counts[vowel] = count\n",
    "Add to dictionary\n",
    "\n",
    "\n",
    "print(vowel_counts)\n",
    "OUTPUT"
   ]
  },
  {
   "cell_type": "code",
   "execution_count": 1,
   "id": "1b6b3a71",
   "metadata": {},
   "outputs": [
    {
     "name": "stdout",
     "output_type": "stream",
     "text": [
      "apple\n",
      "orange\n",
      "otter\n",
      "iguana\n",
      "eagle\n"
     ]
    }
   ],
   "source": [
    "words = ['apple', 'orange', 'pear', 'milk', 'otter', 'snake','iguana','tiger','eagle']\n",
    "for word in words:\n",
    "    if word[0] in 'aeiou':\n",
    "        print(word)"
   ]
  },
  {
   "cell_type": "code",
   "execution_count": null,
   "id": "e1c227b6",
   "metadata": {},
   "outputs": [],
   "source": [
    "\n",
    "while(True):\n",
    "        user =input(\"Enter a string value :\")\n",
    "        string =user.lower()\n",
    "\n",
    "        count= 0\n",
    "\n",
    "        vowel=['a','e','i','o','u']\n",
    "\n",
    "        for char in string:\n",
    "            if char in vowel:\n",
    "                 count =count+1\n",
    "        print(\"no of counts in sentence is: \",count)\n",
    "\n"
   ]
  }
 ],
 "metadata": {
  "kernelspec": {
   "display_name": "Python 3 (ipykernel)",
   "language": "python",
   "name": "python3"
  },
  "language_info": {
   "codemirror_mode": {
    "name": "ipython",
    "version": 3
   },
   "file_extension": ".py",
   "mimetype": "text/x-python",
   "name": "python",
   "nbconvert_exporter": "python",
   "pygments_lexer": "ipython3",
   "version": "3.9.7"
  }
 },
 "nbformat": 4,
 "nbformat_minor": 5
}
