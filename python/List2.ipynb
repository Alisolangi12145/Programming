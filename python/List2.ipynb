{
 "cells": [
  {
   "cell_type": "code",
   "execution_count": 4,
   "id": "9bb455cc",
   "metadata": {},
   "outputs": [
    {
     "name": "stdout",
     "output_type": "stream",
     "text": [
      "[2, 3, 4, 5]\n",
      "it is at  2\n"
     ]
    }
   ],
   "source": [
    "a=[2,3,4,5]\n",
    "\n",
    "print(a)\n",
    "i = a.index(4)\n",
    "print('it is at ', i)"
   ]
  },
  {
   "cell_type": "code",
   "execution_count": 6,
   "id": "2dfbce0f",
   "metadata": {},
   "outputs": [
    {
     "name": "stdout",
     "output_type": "stream",
     "text": [
      "[2, 3, 4, 5]\n",
      "2  it is at  0\n"
     ]
    }
   ],
   "source": [
    "a=[2,3,4,5]\n",
    "s = 2\n",
    "print(a)\n",
    "i = a.index(s)\n",
    "print(s, ' it is at ', i)"
   ]
  },
  {
   "cell_type": "code",
   "execution_count": 37,
   "id": "b1f055d5",
   "metadata": {},
   "outputs": [
    {
     "name": "stdout",
     "output_type": "stream",
     "text": [
      "1\n"
     ]
    },
    {
     "data": {
      "text/plain": [
       "3"
      ]
     },
     "execution_count": 37,
     "metadata": {},
     "output_type": "execute_result"
    }
   ],
   "source": [
    "a=[\"Ali\",\"Solangi\",\"Salam\"]\n",
    "b=a.count(\"Ali\")\n",
    "print(b)\n",
    "len(a)\n",
    "\n"
   ]
  },
  {
   "cell_type": "code",
   "execution_count": 49,
   "id": "0fab78c5",
   "metadata": {},
   "outputs": [
    {
     "name": "stdout",
     "output_type": "stream",
     "text": [
      "its on index  0\n",
      "total no of values in food are: 4\n"
     ]
    }
   ],
   "source": [
    "food =['orange','mango','vegitable','tamato']\n",
    "ind = food.index(\"orange\")\n",
    "print(\"its on index \",ind)\n",
    "l =len(food)\n",
    "print(\"total no of values in food are:\",l)\n",
    "\n",
    " "
   ]
  },
  {
   "cell_type": "code",
   "execution_count": 51,
   "id": "359cb755",
   "metadata": {},
   "outputs": [
    {
     "name": "stdout",
     "output_type": "stream",
     "text": [
      "total number of characters in the list above is:  26\n"
     ]
    }
   ],
   "source": [
    "food =['orange','mango','vegitable','tamato']\n",
    "letters = 0\n",
    "for word in food:\n",
    "    letters = letters + len(word)\n",
    "print('total number of characters in the list above is: ', letters)\n",
    "    "
   ]
  },
  {
   "cell_type": "code",
   "execution_count": 65,
   "id": "3c3b5dca",
   "metadata": {},
   "outputs": [
    {
     "name": "stdout",
     "output_type": "stream",
     "text": [
      "[1, 2, 3, 4, 5, 6, 7, 8, 9, 0, 9, 7, 6643, 54534, 352352, 5252]\n",
      "16\n",
      "total number of characters in the list above is:  26\n"
     ]
    },
    {
     "data": {
      "text/plain": [
       "True"
      ]
     },
     "execution_count": 65,
     "metadata": {},
     "output_type": "execute_result"
    }
   ],
   "source": [
    "a=[1,2,3,4,5,6,7,8,9,0,9,7,6643,54534,352352,5252]\n",
    "print(a)\n",
    "\n",
    "i =len(a)\n",
    "print(i)\n",
    "\n",
    "\n",
    "a =['orange','mango','vegitable','tamato']\n",
    "b = 0\n",
    "for word in a:\n",
    "    b =b + len(word)\n",
    "\n",
    "print('total number of characters in the list above is: ', b)\n",
    "\"orange\" in a"
   ]
  },
  {
   "cell_type": "code",
   "execution_count": null,
   "id": "f9d6df93",
   "metadata": {},
   "outputs": [],
   "source": []
  },
  {
   "cell_type": "code",
   "execution_count": null,
   "id": "cce2c2fd",
   "metadata": {},
   "outputs": [],
   "source": []
  }
 ],
 "metadata": {
  "kernelspec": {
   "display_name": "Python 3 (ipykernel)",
   "language": "python",
   "name": "python3"
  },
  "language_info": {
   "codemirror_mode": {
    "name": "ipython",
    "version": 3
   },
   "file_extension": ".py",
   "mimetype": "text/x-python",
   "name": "python",
   "nbconvert_exporter": "python",
   "pygments_lexer": "ipython3",
   "version": "3.9.7"
  }
 },
 "nbformat": 4,
 "nbformat_minor": 5
}
