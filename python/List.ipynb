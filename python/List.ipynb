{
 "cells": [
  {
   "cell_type": "code",
   "execution_count": 15,
   "id": "44558763",
   "metadata": {},
   "outputs": [
    {
     "name": "stdout",
     "output_type": "stream",
     "text": [
      "['apple', 'banana', 'cherry', 'orange']\n",
      "7\n"
     ]
    }
   ],
   "source": [
    "vthislist = [\"apple\", \"banana\", \"cherry\", \"orange\", \"kiwi\", \"melon\", \"mango\"]\n",
    "print(thislist[:4])\n",
    "print(len(thislist))"
   ]
  },
  {
   "cell_type": "code",
   "execution_count": 13,
   "id": "7d994fac",
   "metadata": {},
   "outputs": [
    {
     "name": "stdout",
     "output_type": "stream",
     "text": [
      "['cherry', 'orange', 'kiwi']\n"
     ]
    }
   ],
   "source": [
    "thislist = [\"apple\", \"banana\", \"cherry\", \"orange\", \"kiwi\", \"melon\", \"mango\"]\n",
    "print(thislist[2:5])"
   ]
  },
  {
   "cell_type": "code",
   "execution_count": 12,
   "id": "e6cbaf93",
   "metadata": {},
   "outputs": [
    {
     "name": "stdout",
     "output_type": "stream",
     "text": [
      "['Grapes', 'Apple', 'Mango']\n"
     ]
    }
   ],
   "source": [
    "# Modifying list here \n",
    "fruits =[\"oranges\",\"Apple\",\"Mango\"]\n",
    "# print(fruits)\n",
    "fruits[0] = \"Grapes\"\n",
    "print(fruits)\n"
   ]
  },
  {
   "cell_type": "code",
   "execution_count": null,
   "id": "184f2fac",
   "metadata": {},
   "outputs": [],
   "source": [
    "a=[\"bread,pasta,fruits,veggies\"]\n",
    "print(a)\n",
    "\n",
    "\n",
    "a=[\"bread\",\"pasta\",\"fruits\",\"veggies\"]\n",
    "a[0]=\"Honey\";\n",
    "print(a)\n",
    "print(a[0])\n",
    "a.count(\"bread\")\n",
    "\n"
   ]
  },
  {
   "cell_type": "code",
   "execution_count": null,
   "id": "ff6c80fe",
   "metadata": {},
   "outputs": [],
   "source": [
    "\n",
    "# joining two lists\n",
    "food=[\"graps\",\"oranges\",\"mangoes\",\"Bananas\"]\n",
    "bathroom=[\"shampoo\",\"soap\"]\n",
    "add=food+bathroom\n",
    "\n",
    "\n",
    "add[0:2]\n",
    "add.append(\"brush\")\n",
    "\n",
    "\n",
    "\n",
    "add.insert(1,\"stobarry\")\n",
    "\n",
    "print(add)\n",
    "add.count(\"stobarry\")\n",
    "\n",
    "\n",
    "# joining two lists\n",
    "food=[\"graps\",\"oranges\",\"mangoes\",\"Bananas\"]\n",
    "bathroom=[\"shampoo\",\"soap\"]\n",
    "add=food+bathroom\n",
    "\n",
    "\n",
    "add[0:2]\n",
    "add.append(\"brush\")\n",
    "\n",
    "\n",
    "\n",
    "add.insert(1,\"stobarry\")\n",
    "\n",
    "print(add)\n",
    "add.count(\"stobarry\")\n",
    "\n"
   ]
  },
  {
   "cell_type": "code",
   "execution_count": null,
   "id": "078e6c47",
   "metadata": {},
   "outputs": [],
   "source": [
    "\n",
    "\n",
    "a=[\"Salam\",\"Sindh\",\"Pakistan\",\"Zindabad\"]\n",
    "a.count(\"salam\")\n",
    "a[0:2]\n",
    "a.append(\"butter\")\n",
    "\n",
    "a.insert(1,\"Love you sindh\")\n",
    "print(a)\n",
    "\n",
    "\n",
    "a=[\"bread,pasta,fruits,veggies\"]\n",
    "print(a)\n",
    "\n",
    "\n",
    "a=[\"bread\",\"pasta\",\"fruits\",\"veggies\"]\n",
    "a[0]=\"Honey\";\n",
    "print(a)\n",
    "print(a[0])\n",
    "a.count(\"bread\")\n",
    "\n"
   ]
  },
  {
   "cell_type": "code",
   "execution_count": 26,
   "id": "322cafee",
   "metadata": {},
   "outputs": [
    {
     "name": "stdout",
     "output_type": "stream",
     "text": [
      "0\n"
     ]
    }
   ],
   "source": []
  },
  {
   "cell_type": "code",
   "execution_count": null,
   "id": "8065440d",
   "metadata": {},
   "outputs": [],
   "source": []
  }
 ],
 "metadata": {
  "kernelspec": {
   "display_name": "Python 3 (ipykernel)",
   "language": "python",
   "name": "python3"
  },
  "language_info": {
   "codemirror_mode": {
    "name": "ipython",
    "version": 3
   },
   "file_extension": ".py",
   "mimetype": "text/x-python",
   "name": "python",
   "nbconvert_exporter": "python",
   "pygments_lexer": "ipython3",
   "version": "3.9.7"
  }
 },
 "nbformat": 4,
 "nbformat_minor": 5
}
