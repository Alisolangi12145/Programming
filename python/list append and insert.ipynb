{
 "cells": [
  {
   "cell_type": "code",
   "execution_count": 40,
   "id": "3412c724",
   "metadata": {},
   "outputs": [
    {
     "name": "stdout",
     "output_type": "stream",
     "text": [
      "['bread,pasta,fruits,veggies']\n",
      "['Honey', 'pasta', 'fruits', 'veggies']\n",
      "Honey\n"
     ]
    },
    {
     "data": {
      "text/plain": [
       "0"
      ]
     },
     "execution_count": 40,
     "metadata": {},
     "output_type": "execute_result"
    }
   ],
   "source": [
    "a=[\"bread,pasta,fruits,veggies\"]\n",
    "print(a)\n",
    "\n",
    "\n",
    "a=[\"bread\",\"pasta\",\"fruits\",\"veggies\"]\n",
    "a[0]=\"Honey\";\n",
    "print(a)\n",
    "print(a[0])\n",
    "a.count(\"bread\")\n",
    "\n",
    "\n",
    "\n"
   ]
  },
  {
   "cell_type": "code",
   "execution_count": 2,
   "id": "97ae3e65",
   "metadata": {},
   "outputs": [
    {
     "name": "stdout",
     "output_type": "stream",
     "text": [
      "['Salam', 'Love you sindh', 'Sindh', 'Pakistan', 'Zindabad', 'butter']\n"
     ]
    }
   ],
   "source": [
    "a=[\"Salam\",\"Sindh\",\"Pakistan\",\"Zindabad\"]\n",
    "a.count(\"salam\")\n",
    "a[0:2]\n",
    "a.append(\"butter\")\n",
    "\n",
    "a.insert(1,\"Love you sindh\")\n",
    "print(a)\n",
    "\n"
   ]
  },
  {
   "cell_type": "code",
   "execution_count": 73,
   "id": "99ba6256",
   "metadata": {},
   "outputs": [
    {
     "name": "stdout",
     "output_type": "stream",
     "text": [
      "['graps', 'stobarry', 'oranges', 'mangoes', 'Bananas', 'shampoo', 'soap', 'brush']\n",
      "the index of oranges is:  2\n"
     ]
    },
    {
     "data": {
      "text/plain": [
       "8"
      ]
     },
     "execution_count": 73,
     "metadata": {},
     "output_type": "execute_result"
    }
   ],
   "source": [
    "# joining two lists\n",
    "food=[\"graps\",\"oranges\",\"mangoes\",\"Bananas\"]\n",
    "bathroom=[\"shampoo\",\"soap\"]\n",
    "add=food+bathroom\n",
    "\n",
    "\n",
    "add[0:2]\n",
    "add.append(\"brush\")\n",
    "\n",
    "\n",
    "\n",
    "add.insert(1,\"stobarry\")\n",
    "\n",
    "print(add)\n",
    "add.count(\"stobarry\")\n",
    "\n",
    "ind = add.index('oranges')\n",
    "print('the index of oranges is: ', ind)\n",
    "len(add)\n",
    "\n",
    "\n",
    "\n"
   ]
  },
  {
   "cell_type": "code",
   "execution_count": 75,
   "id": "96af18f6",
   "metadata": {},
   "outputs": [
    {
     "data": {
      "text/plain": [
       "False"
      ]
     },
     "execution_count": 75,
     "metadata": {},
     "output_type": "execute_result"
    }
   ],
   "source": [
    "food=[\"graps\",\"oranges\",\"mangoes\",\"Bananas\"]\n",
    "len(food)\n",
    "# its true\n",
    "\"graps\" in food\n",
    "# its fals\n",
    "\"Soda\" in food\n",
    "\n"
   ]
  }
 ],
 "metadata": {
  "kernelspec": {
   "display_name": "Python 3 (ipykernel)",
   "language": "python",
   "name": "python3"
  },
  "language_info": {
   "codemirror_mode": {
    "name": "ipython",
    "version": 3
   },
   "file_extension": ".py",
   "mimetype": "text/x-python",
   "name": "python",
   "nbconvert_exporter": "python",
   "pygments_lexer": "ipython3",
   "version": "3.10.1"
  }
 },
 "nbformat": 4,
 "nbformat_minor": 5
}
