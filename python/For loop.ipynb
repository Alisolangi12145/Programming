{
 "cells": [
  {
   "cell_type": "code",
   "execution_count": null,
   "id": "12ae512b",
   "metadata": {},
   "outputs": [],
   "source": [
    "# Totall all these months expense\n",
    "Exp =[8000,7000,10000,9050,6000,6300]\n",
    "Total = Exp[0] + Exp[1] + Exp[2] + Exp[3] + Exp[4] + Exp[5]\n",
    "print(Total)"
   ]
  },
  {
   "cell_type": "code",
   "execution_count": null,
   "id": "d8728ac1",
   "metadata": {},
   "outputs": [],
   "source": [
    "Exp =[8000,7000,10000,9050,6000,6300]\n",
    "total = 0\n",
    "for item in Exp:\n",
    "    total=total+item\n",
    "print(total)"
   ]
  },
  {
   "cell_type": "code",
   "execution_count": null,
   "id": "14c1b28c",
   "metadata": {},
   "outputs": [],
   "source": []
  },
  {
   "cell_type": "code",
   "execution_count": null,
   "id": "6676cda8",
   "metadata": {},
   "outputs": [],
   "source": [
    "for i in range (1,10):\n",
    "    print(i)"
   ]
  },
  {
   "cell_type": "code",
   "execution_count": null,
   "id": "9b59b952",
   "metadata": {},
   "outputs": [],
   "source": [
    "for i in range (1,11):\n",
    "    print(i*i)"
   ]
  },
  {
   "cell_type": "code",
   "execution_count": 6,
   "id": "81399570",
   "metadata": {},
   "outputs": [
    {
     "name": "stdout",
     "output_type": "stream",
     "text": [
      "Monthly 1 Expenses: 8000\n",
      "Monthly 2 Expenses: 15000\n",
      "Monthly 3 Expenses: 25001\n",
      "Monthly 4 Expenses: 34053\n",
      "Monthly 5 Expenses: 40056\n",
      "Monthly 6 Expenses: 46360\n",
      "The Total sum of all Expenses is : 46365\n"
     ]
    }
   ],
   "source": [
    "Exp =[8000,7000,10000,9050,6000,6300]\n",
    "total=0\n",
    "# for i in Exp:\n",
    "for i in range(len(Exp)):\n",
    "    total=total + Exp[i]\n",
    "    print(\"Monthly\",(i+1),'Expenses:',total)\n",
    "    total=total+i\n",
    "print(\"The Total sum of all Expenses is :\",total)\n",
    "\n",
    "    \n",
    "\n",
    "    \n",
    "\n",
    "\n"
   ]
  },
  {
   "cell_type": "code",
   "execution_count": 8,
   "id": "2812c425",
   "metadata": {},
   "outputs": [
    {
     "name": "stdout",
     "output_type": "stream",
     "text": [
      "enter namegarage\n",
      "key is not found in: garage\n",
      "key is not found in: living room\n",
      "key is not found in: chair\n",
      "key is not found in: closet\n"
     ]
    }
   ],
   "source": [
    "\n",
    "# key_location =\"chair\"\n",
    "key_location =input(\"enter name\")\n",
    "locations =[\"garage\",\"living room\",\"chair\",\"closet\"]\n",
    "for i in locations:\n",
    "    if i ==key_location:\n",
    "        print(\"key is found in:\",i)\n",
    "        break\n",
    "    else:\n",
    "        print(\"key is not found in:\",i)"
   ]
  },
  {
   "cell_type": "code",
   "execution_count": null,
   "id": "2539bcdc",
   "metadata": {},
   "outputs": [],
   "source": []
  }
 ],
 "metadata": {
  "kernelspec": {
   "display_name": "Python 3 (ipykernel)",
   "language": "python",
   "name": "python3"
  },
  "language_info": {
   "codemirror_mode": {
    "name": "ipython",
    "version": 3
   },
   "file_extension": ".py",
   "mimetype": "text/x-python",
   "name": "python",
   "nbconvert_exporter": "python",
   "pygments_lexer": "ipython3",
   "version": "3.9.7"
  }
 },
 "nbformat": 4,
 "nbformat_minor": 5
}
