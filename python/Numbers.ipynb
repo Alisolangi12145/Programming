{
 "cells": [
  {
   "cell_type": "code",
   "execution_count": 7,
   "id": "1dd10f01",
   "metadata": {},
   "outputs": [
    {
     "name": "stdout",
     "output_type": "stream",
     "text": [
      "9\n",
      "2\n",
      "20\n",
      "1\n",
      "16\n",
      "6.0\n"
     ]
    }
   ],
   "source": [
    "a=4+5;\n",
    "print(a)\n",
    "\n",
    "\n",
    "\n",
    "b=5-3;\n",
    "print(b)\n",
    "\n",
    "\n",
    "c=4*5;\n",
    "print(c)\n",
    "\n",
    "d= 11%2;\n",
    "print(d)\n",
    "\n",
    "e= 2**4;\n",
    "print(e)\n",
    "\n",
    "f= 12/2\n",
    "print(f)\n"
   ]
  },
  {
   "cell_type": "code",
   "execution_count": 17,
   "id": "fb6a823c",
   "metadata": {
    "scrolled": true
   },
   "outputs": [
    {
     "name": "stdout",
     "output_type": "stream",
     "text": [
      "i have to do total distance this: 521\n",
      "its 8.015384615384615 hours now\n"
     ]
    },
    {
     "data": {
      "text/plain": [
       "8.02"
      ]
     },
     "execution_count": 17,
     "metadata": {},
     "output_type": "execute_result"
    }
   ],
   "source": [
    "larkana =450;\n",
    "jcd =71;\n",
    "total_distance =larkana+jcd;\n",
    "print(\"i have to do total distance this:\",total_distance)\n",
    "\n",
    "mph= 65;\n",
    "time=total_distance/mph;\n",
    "print(\"its\",time,\"hours now\")\n",
    "\n",
    "round(time,2)"
   ]
  },
  {
   "cell_type": "code",
   "execution_count": 53,
   "id": "a28a08ee",
   "metadata": {},
   "outputs": [
    {
     "name": "stdout",
     "output_type": "stream",
     "text": [
      "16\n",
      "24.0\n",
      "0.2999999999999998\n"
     ]
    },
    {
     "data": {
      "text/plain": [
       "float"
      ]
     },
     "execution_count": 53,
     "metadata": {},
     "output_type": "execute_result"
    }
   ],
   "source": [
    "a=10+2*3;\n",
    "print(a)\n",
    "\n",
    "b=12/2*4\n",
    "print(b)\n",
    "\n",
    "c=6-5.7\n",
    "print(c)\n",
    "round(c,4)\n",
    "type(c)\n"
   ]
  }
 ],
 "metadata": {
  "kernelspec": {
   "display_name": "Python 3 (ipykernel)",
   "language": "python",
   "name": "python3"
  },
  "language_info": {
   "codemirror_mode": {
    "name": "ipython",
    "version": 3
   },
   "file_extension": ".py",
   "mimetype": "text/x-python",
   "name": "python",
   "nbconvert_exporter": "python",
   "pygments_lexer": "ipython3",
   "version": "3.10.1"
  }
 },
 "nbformat": 4,
 "nbformat_minor": 5
}
