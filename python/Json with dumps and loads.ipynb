{
 "cells": [
  {
   "cell_type": "code",
   "execution_count": 16,
   "id": "d95d9d89",
   "metadata": {},
   "outputs": [
    {
     "name": "stdout",
     "output_type": "stream",
     "text": [
      "{\"Teacher\":\"Sir kamran\" , \"poen\": \"anyone\"}\n",
      "<class 'str'>\n",
      "Sir kamran\n",
      "<class 'dict'>\n"
     ]
    }
   ],
   "source": [
    "import json\n",
    "\n",
    "# data = {'Teacher': 'Sir kamran', 'poen': 'anyone'}\n",
    "# print(data['Teacher'])\n",
    "\n",
    "\n",
    "data = '{\"Teacher\":\"Sir kamran\" , \"poen\": \"anyone\", \"number\": 0345 }'\n",
    "print(data)\n",
    "print(type(data))\n",
    "\n",
    "#   json.loads convert string into dictionary \n",
    "parsed = json.loads(data)\n",
    "print(parsed['Teacher'])\n",
    "print(type(parsed))\n",
    "\n",
    " \n",
    "# parse= json.load(data)\n",
    "# print(parse['Teacher'])\n",
    "# print(type(parse))"
   ]
  },
  {
   "cell_type": "code",
   "execution_count": 5,
   "id": "f4d8aa5f",
   "metadata": {},
   "outputs": [
    {
     "name": "stdout",
     "output_type": "stream",
     "text": [
      "{\"color\": \"Black\", \"channel_name\": [\"Sindh tv\", \"KTN\", \"Mehran Tv\", \"Kashish\"], \"cars\": [\"bmw\", \"carola\", \"cvic\", \"mehran\", \"mersadies\", 110]}\n",
      "81\n",
      "81\n",
      "1\n",
      "<class 'str'>\n"
     ]
    }
   ],
   "source": [
    "import json\n",
    "data2 ={\"color\":'Black',\n",
    "       \"channel_name\":['Sindh tv','KTN','Mehran Tv','Kashish'],\n",
    "       \"cars\":('bmw','carola','cvic','mehran','mersadies',110),\n",
    "       }\n",
    "\n",
    "# this converts dictionary to string \n",
    "pares2 = json.dumps(data2)\n",
    "\n",
    "print(pares2)\n",
    "print(pares2.index('cars'))\n",
    "print(pares2.find('cars'))\n",
    "print(pares2.count('cars'))\n",
    "print(type(pares2))\n",
    "\n",
    "\n",
    "# print(type(pares2))\n",
    "# b = pares2.count('o')\n",
    "# print(b)\n",
    "\n",
    "# b = pares2.find('o')\n",
    "# print(b)\n",
    "\n",
    "# b = pares2.index('c')\n",
    "# print(b)\n",
    "\n",
    "# b = len(pares2)\n",
    "# print(b)"
   ]
  },
  {
   "cell_type": "code",
   "execution_count": null,
   "id": "38cbc34e",
   "metadata": {},
   "outputs": [],
   "source": []
  }
 ],
 "metadata": {
  "kernelspec": {
   "display_name": "Python 3 (ipykernel)",
   "language": "python",
   "name": "python3"
  },
  "language_info": {
   "codemirror_mode": {
    "name": "ipython",
    "version": 3
   },
   "file_extension": ".py",
   "mimetype": "text/x-python",
   "name": "python",
   "nbconvert_exporter": "python",
   "pygments_lexer": "ipython3",
   "version": "3.10.1"
  }
 },
 "nbformat": 4,
 "nbformat_minor": 5
}
