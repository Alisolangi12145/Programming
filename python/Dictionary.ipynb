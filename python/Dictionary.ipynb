{
 "cells": [
  {
   "cell_type": "code",
   "execution_count": 45,
   "id": "054f87a1",
   "metadata": {},
   "outputs": [
    {
     "name": "stdout",
     "output_type": "stream",
     "text": [
      "{'Ali': 345543, 'Solangi': 38409336409, 'karachi': 89504509, 'sindh': 82387642, 'pakistan': 444885, 'Cherry': 10}  \n"
     ]
    },
    {
     "data": {
      "text/plain": [
       "dict"
      ]
     },
     "execution_count": 45,
     "metadata": {},
     "output_type": "execute_result"
    }
   ],
   "source": [
    "key values pairs keys are unique and immuteable\n",
    "d ={\n",
    "    \"Ali\":345543,\n",
    "    \"Solangi\":38409336409,\n",
    "    \"karachi\":89504509,\n",
    "    \"sindh\":82387642,\n",
    "    \"pakistan\":444885\n",
    "}\n",
    "\n",
    "d[\"Cherry\"]=10\n",
    "\n",
    "print(d, ' ')\n",
    "type(d)\n"
   ]
  },
  {
   "cell_type": "code",
   "execution_count": 42,
   "id": "f4ec7ef2",
   "metadata": {},
   "outputs": [
    {
     "name": "stdout",
     "output_type": "stream",
     "text": [
      "Ritika  :  5\n",
      "Sam  :  7\n",
      "John  :  10\n",
      "Aadi  :  8\n"
     ]
    }
   ],
   "source": [
    "student_score = {   'Ritika': 5,\n",
    "                    'Sam': 7, \n",
    "                    'John': 10, \n",
    "                    'Aadi': 8}\n",
    "# Iterate over key/value pairs in dict and print them\n",
    "for key,  value in student_score.items():\n",
    "    print(key,' : ',value)"
   ]
  },
  {
   "cell_type": "code",
   "execution_count": 44,
   "id": "65088873",
   "metadata": {},
   "outputs": [
    {
     "name": "stdout",
     "output_type": "stream",
     "text": [
      "Ritika  :  5\n",
      "Sam  :  7\n",
      "John  :  10\n",
      "Aadi  :  8\n"
     ]
    }
   ],
   "source": [
    "# A dictionary of student names and their score\n",
    "student_score = {   'Ritika': 5,\n",
    "                    'Sam': 7, \n",
    "                    'John': 10, \n",
    "                    'Aadi': 8}\n",
    "# Iterate over the keys in dictionary, access value & print line by line\n",
    "for key in student_score:\n",
    "    print(key, ' : ', student_score[key])"
   ]
  },
  {
   "cell_type": "code",
   "execution_count": 48,
   "id": "35bc6790",
   "metadata": {},
   "outputs": [
    {
     "name": "stdout",
     "output_type": "stream",
     "text": [
      "{'Ali': 345543, 'Solangi': 38409336409, 'karachi': 89504509, 'sindh': 82387642, 'pakistan': 444885}\n",
      "5\n"
     ]
    },
    {
     "data": {
      "text/plain": [
       "dict"
      ]
     },
     "execution_count": 48,
     "metadata": {},
     "output_type": "execute_result"
    }
   ],
   "source": [
    "d ={\n",
    "    \"Ali\":345543,\n",
    "    \"Solangi\":38409336409,\n",
    "    \"karachi\":89504509,\n",
    "    \"sindh\":82387642,\n",
    "    \"pakistan\":444885\n",
    "    \n",
    "}\n",
    "\n",
    "\n",
    "print(d)\n",
    "print(len(d))\n",
    "type(d)"
   ]
  },
  {
   "cell_type": "code",
   "execution_count": null,
   "id": "eb23dd0b",
   "metadata": {},
   "outputs": [],
   "source": []
  }
 ],
 "metadata": {
  "kernelspec": {
   "display_name": "Python 3 (ipykernel)",
   "language": "python",
   "name": "python3"
  },
  "language_info": {
   "codemirror_mode": {
    "name": "ipython",
    "version": 3
   },
   "file_extension": ".py",
   "mimetype": "text/x-python",
   "name": "python",
   "nbconvert_exporter": "python",
   "pygments_lexer": "ipython3",
   "version": "3.10.1"
  }
 },
 "nbformat": 4,
 "nbformat_minor": 5
}
