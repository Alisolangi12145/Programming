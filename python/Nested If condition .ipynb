{
 "cells": [
  {
   "cell_type": "code",
   "execution_count": 29,
   "id": "e81bd405",
   "metadata": {},
   "outputs": [
    {
     "name": "stdout",
     "output_type": "stream",
     "text": [
      "enter a no:44\n",
      "enter a second no:5\n",
      "True result :\n"
     ]
    }
   ],
   "source": [
    "# parent condition should be true \n",
    "# Nested if condition\n",
    "\n",
    "a =int(input(\"enter a no:\"))\n",
    "b =int(input(\"enter a second no:\"))\n",
    "\n",
    "\n",
    "if a<b:\n",
    "\n",
    "    print(\"result :\" ,a<b )\n",
    "    \n",
    "if a>b:\n",
    "     print(a>b,\"result :\" )\n",
    "    \n",
    "\n",
    "# print(\"rest of code\")\n",
    "        \n"
   ]
  },
  {
   "cell_type": "markdown",
   "id": "9ce1d355",
   "metadata": {},
   "source": []
  },
  {
   "cell_type": "code",
   "execution_count": null,
   "id": "b205ede9",
   "metadata": {},
   "outputs": [],
   "source": []
  }
 ],
 "metadata": {
  "kernelspec": {
   "display_name": "Python 3 (ipykernel)",
   "language": "python",
   "name": "python3"
  },
  "language_info": {
   "codemirror_mode": {
    "name": "ipython",
    "version": 3
   },
   "file_extension": ".py",
   "mimetype": "text/x-python",
   "name": "python",
   "nbconvert_exporter": "python",
   "pygments_lexer": "ipython3",
   "version": "3.9.7"
  }
 },
 "nbformat": 4,
 "nbformat_minor": 5
}
