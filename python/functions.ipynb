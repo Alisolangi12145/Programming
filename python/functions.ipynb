{
 "cells": [
  {
   "cell_type": "code",
   "execution_count": null,
   "id": "dadaf4c8",
   "metadata": {
    "scrolled": true
   },
   "outputs": [],
   "source": [
    "def add(a,b):\n",
    "    print(\"sum\",a+b)\n",
    "add(23,4)"
   ]
  },
  {
   "cell_type": "code",
   "execution_count": null,
   "id": "dc7d0b0d",
   "metadata": {},
   "outputs": [],
   "source": [
    "def greet(a):\n",
    "    a=input(\"enter a name\")\n",
    "    print(\"hello\"+a+\"!\")\n",
    "greet(\" \")"
   ]
  },
  {
   "cell_type": "code",
   "execution_count": null,
   "id": "850a9d2b",
   "metadata": {},
   "outputs": [],
   "source": [
    "def name(fname,lname):\n",
    "    print(sum1)\n",
    "    return fname+lname\n",
    "sum1=name(\" Ali \",\"Solangi\")\n",
    "\n"
   ]
  },
  {
   "cell_type": "code",
   "execution_count": null,
   "id": "cc96ce00",
   "metadata": {},
   "outputs": [],
   "source": [
    "# this is not good because we will have write code again and again\n",
    "\n",
    "Ali_exp_list =[2100,45000,6000]\n",
    "Ahmed_exp_list =[2200,15000,8000]\n",
    "\n",
    "total = 0\n",
    "\n",
    "for item in Ali_exp_list:\n",
    "    total=total+item\n",
    "print(\"Ali total expenses:\",total)\n",
    "    \n",
    "# total = 0\n",
    "\n",
    "for item in Ahmed_exp_list:\n",
    "    total=total+item\n",
    "print(\"Ahmed total expenses:\",total)\n",
    "    "
   ]
  },
  {
   "cell_type": "code",
   "execution_count": null,
   "id": "2f31d54d",
   "metadata": {},
   "outputs": [],
   "source": [
    "def my_function():\n",
    "  print(\"Hello from a function\")\n",
    "\n",
    "my_function()\n"
   ]
  },
  {
   "cell_type": "code",
   "execution_count": null,
   "id": "cd362c1c",
   "metadata": {},
   "outputs": [],
   "source": [
    "def my_function(fname,lname):\n",
    "  print(fname +\" Refsnes\",\" \" ,lname +\" Robin\")\n",
    "\n",
    "my_function(\"Emil\",\"Mobile\")\n",
    "my_function(\"Tobias\",\"Iphone\")\n",
    "my_function(\"Linus\",\"Samsung\")\n"
   ]
  },
  {
   "cell_type": "code",
   "execution_count": null,
   "id": "0c6c653b",
   "metadata": {},
   "outputs": [],
   "source": [
    "def calculate_total(Exp):\n",
    "    total=0\n",
    "    for i in Exp:\n",
    "        total=total+i\n",
    "    return total\n",
    "    \n",
    "    Ali_exp_list =[2100,45000,6000]\n",
    "    Ahmed_exp_list =[2200,15000,8000]\n",
    "\n",
    "Ali_total=calculate_total(Ali_exp_list)\n",
    "Ahmed_total=calculate_total(Ahmed_exp_list)\n",
    "\n",
    "print(\"Ali's Total:\",Ali_total)\n",
    "print(\"Ahmed's Total:\",Ahmed_total)\n",
    "\n"
   ]
  },
  {
   "cell_type": "code",
   "execution_count": null,
   "id": "b154ea17",
   "metadata": {},
   "outputs": [],
   "source": [
    "# def sum(a,b):\n",
    "#     total=a+b\n",
    "#     return total\n",
    "\n",
    "# n=input(\"enter a no\")\n",
    "\n",
    "# o=input(\"enter b no\")\n",
    "# sum()\n",
    "# print(\"Total\",n)"
   ]
  },
  {
   "cell_type": "code",
   "execution_count": null,
   "id": "f128ea34",
   "metadata": {},
   "outputs": [],
   "source": [
    "def my_function(country = \"Norway\"):\n",
    "  print(\"I am from \" + country)\n",
    "\n",
    "my_function(\"Sweden\")\n",
    "my_function(\"India\")\n",
    "my_function()\n",
    "my_function(\"Brazil\")"
   ]
  },
  {
   "cell_type": "code",
   "execution_count": null,
   "id": "0fcdc50f",
   "metadata": {},
   "outputs": [],
   "source": [
    "def my_function(child3, child2, child1):\n",
    "  print(\"The youngest child is \" + child3)\n",
    "\n",
    "my_function(child1 = \"Emil\", child2 = \"Tobias\", child3 = \"Linus\")\n"
   ]
  },
  {
   "cell_type": "code",
   "execution_count": null,
   "id": "ce954328",
   "metadata": {},
   "outputs": [],
   "source": [
    "def my_function(food):\n",
    "    for x in food:\n",
    "        print(x)\n",
    "\n",
    "fruits = [\"apple\", \"banana\", \"cherry\"]\n",
    "alone =[232,238,66666,]\n",
    "my_function(fruits)\n",
    "my_function(alone)"
   ]
  },
  {
   "cell_type": "code",
   "execution_count": null,
   "id": "09a67d29",
   "metadata": {},
   "outputs": [],
   "source": [
    "def my_function(*kids):\n",
    "  print(\"The youngest child is \" + kids[2])\n",
    "\n",
    "my_function(\"Emil\", \"Tobias\", \"Linus\")\n"
   ]
  },
  {
   "cell_type": "code",
   "execution_count": null,
   "id": "3795f8ac",
   "metadata": {},
   "outputs": [],
   "source": [
    "def my_function(**kid):\n",
    "  print(\"His last name is \" + kid[\"fname\"])\n",
    "\n",
    "my_function(fname = \"Tobias\", lname = \"Refsnes\")\n"
   ]
  },
  {
   "cell_type": "code",
   "execution_count": null,
   "id": "d8bbf69c",
   "metadata": {},
   "outputs": [],
   "source": [
    "def greeting(name):\n",
    "    print(\"hello\"+name + \"!\")\n",
    "    greeting(\"Ali\")"
   ]
  },
  {
   "cell_type": "code",
   "execution_count": 36,
   "id": "fa14141f",
   "metadata": {},
   "outputs": [
    {
     "name": "stdout",
     "output_type": "stream",
     "text": [
      "enter a no6\n",
      "Hello 6\n",
      "<class 'int'>\n"
     ]
    }
   ],
   "source": [
    "\n",
    "def good(name):\n",
    "        a=input(\"enter a no\")\n",
    "        b=int(a) \n",
    "       \n",
    "        print(\"Hello\",b)\n",
    "        print(type(b)) \n",
    "good(\" \")"
   ]
  },
  {
   "cell_type": "code",
   "execution_count": null,
   "id": "443b04cf",
   "metadata": {},
   "outputs": [],
   "source": []
  },
  {
   "cell_type": "code",
   "execution_count": null,
   "id": "bbcae72a",
   "metadata": {},
   "outputs": [],
   "source": []
  },
  {
   "cell_type": "code",
   "execution_count": null,
   "id": "94595f45",
   "metadata": {},
   "outputs": [],
   "source": []
  }
 ],
 "metadata": {
  "kernelspec": {
   "display_name": "Python 3 (ipykernel)",
   "language": "python",
   "name": "python3"
  },
  "language_info": {
   "codemirror_mode": {
    "name": "ipython",
    "version": 3
   },
   "file_extension": ".py",
   "mimetype": "text/x-python",
   "name": "python",
   "nbconvert_exporter": "python",
   "pygments_lexer": "ipython3",
   "version": "3.9.7"
  }
 },
 "nbformat": 4,
 "nbformat_minor": 5
}
