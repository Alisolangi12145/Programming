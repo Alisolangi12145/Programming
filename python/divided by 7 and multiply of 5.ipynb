{
 "cells": [
  {
   "cell_type": "code",
   "execution_count": 6,
   "id": "ba4e817c",
   "metadata": {},
   "outputs": [
    {
     "name": "stdout",
     "output_type": "stream",
     "text": [
      "1505,1540,1575,1610,1645,1680,1715,1750,1785,1820,1855,1890,1925,1960,1995,2030,2065,2100,2135,2170,2205,2240,2275,2310,2345,2380,2415,2450,2485,2520,2555,2590,2625,2660,2695\n"
     ]
    }
   ],
   "source": [
    "n=[]\n",
    "for x in range(1500, 2701):\n",
    "    if (x%7==0) and (x%5==0):\n",
    "        n.append(str(x))\n",
    "print (','.join(n))\n",
    "        "
   ]
  },
  {
   "cell_type": "code",
   "execution_count": null,
   "id": "b48a195b",
   "metadata": {},
   "outputs": [],
   "source": [
    "import math\n",
    "print(math.sqrt(1505)) "
   ]
  },
  {
   "cell_type": "code",
   "execution_count": null,
   "id": "90fde65c",
   "metadata": {},
   "outputs": [],
   "source": [
    "nl=[]\n",
    "for x in range(1500, 2701):\n",
    "    if (x%7==0) and (x%5==0):\n",
    "        nl.append(str(x))\n",
    "print (','.join(nl))"
   ]
  }
 ],
 "metadata": {
  "kernelspec": {
   "display_name": "Python 3 (ipykernel)",
   "language": "python",
   "name": "python3"
  },
  "language_info": {
   "codemirror_mode": {
    "name": "ipython",
    "version": 3
   },
   "file_extension": ".py",
   "mimetype": "text/x-python",
   "name": "python",
   "nbconvert_exporter": "python",
   "pygments_lexer": "ipython3",
   "version": "3.10.1"
  }
 },
 "nbformat": 4,
 "nbformat_minor": 5
}
