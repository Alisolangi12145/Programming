{
 "cells": [
  {
   "cell_type": "code",
   "execution_count": null,
   "id": "7f4cc000",
   "metadata": {},
   "outputs": [],
   "source": [
    "class Employee\n",
    " no_of_leves =8\n",
    "    \n",
    "def __init__(self,name ,salary ,role):\n",
    "    self.name=name\n",
    "    self.salary =salary\n",
    "    self.role=role\n",
    "def printdetails():\n",
    "    return \"{the name is{self.name} salary is{self.salary}and role is{self.role}\"\n",
    "\n",
    "@classmethod\n",
    "\n",
    "def change_leaves(cls,newleaves)\n",
    "cls.no_of_leves =newleaves\n",
    "\n",
    "@classmethod\n",
    "\n",
    "\n",
    "\n",
    "saad.Employee(\"Saad Ali panhwar\",4500,\"Teacher\")\n",
    "razaque.Employee(\"Razaque khan charkat\",5000, \"Student\")"
   ]
  }
 ],
 "metadata": {
  "kernelspec": {
   "display_name": "Python 3 (ipykernel)",
   "language": "python",
   "name": "python3"
  },
  "language_info": {
   "codemirror_mode": {
    "name": "ipython",
    "version": 3
   },
   "file_extension": ".py",
   "mimetype": "text/x-python",
   "name": "python",
   "nbconvert_exporter": "python",
   "pygments_lexer": "ipython3",
   "version": "3.9.7"
  }
 },
 "nbformat": 4,
 "nbformat_minor": 5
}
