{
 "cells": [
  {
   "cell_type": "code",
   "execution_count": 6,
   "id": "a52a9405",
   "metadata": {
    "scrolled": true
   },
   "outputs": [
    {
     "name": "stdout",
     "output_type": "stream",
     "text": [
      "Enter a number3\n",
      "no is odd\n"
     ]
    }
   ],
   "source": [
    "num =input(\"Enter a number\")\n",
    "num =int(num)\n",
    "if num%2==0:\n",
    "    print(\"no is even\")\n",
    "else:\n",
    "        print(\"no is odd\")"
   ]
  },
  {
   "cell_type": "code",
   "execution_count": 19,
   "id": "cd3bbb55",
   "metadata": {},
   "outputs": [
    {
     "name": "stdout",
     "output_type": "stream",
     "text": [
      "Enter a Dish Name :samoosa\n",
      "Its Pakistani Dish:\n",
      "\n",
      "Enter a Dish Name :egg role\n",
      "Its chinese Dish:\n",
      "\n",
      "Enter a Dish Name :pasta\n",
      "Its italian Dish\n",
      "Enter a Dish Name :jjknjkhn\n",
      "its anyother country dish\n",
      "Enter a Dish Name :exit\n"
     ]
    }
   ],
   "source": [
    "while(True):\n",
    "    \n",
    "    pakistani = [\"samoosa\",\"daal\",\"naan\"]\n",
    "    chinese = [\"egg role\",\"pot sticker\",\"fried rice\"]\n",
    "    italian =[\"pasta\",\"risetto\", \"pizza\"]\n",
    "\n",
    "    dish =input(\"Enter a Dish Name :\")\n",
    "\n",
    "\n",
    "    if dish in pakistani:\n",
    "        print(\"Its Pakistani Dish:\\n\")\n",
    "    elif dish in chinese:\n",
    "        print(\"Its chinese Dish:\\n\")\n",
    "    elif dish in italian:\n",
    "        print(\"Its italian Dish\")\n",
    "    elif dish == \"exit\":\n",
    "        break\n",
    "    else:\n",
    "        print(\"its anyother country dish\")"
   ]
  },
  {
   "cell_type": "code",
   "execution_count": null,
   "id": "7da50252",
   "metadata": {},
   "outputs": [],
   "source": []
  },
  {
   "cell_type": "code",
   "execution_count": null,
   "id": "7ad61b11",
   "metadata": {},
   "outputs": [],
   "source": []
  }
 ],
 "metadata": {
  "kernelspec": {
   "display_name": "Python 3 (ipykernel)",
   "language": "python",
   "name": "python3"
  },
  "language_info": {
   "codemirror_mode": {
    "name": "ipython",
    "version": 3
   },
   "file_extension": ".py",
   "mimetype": "text/x-python",
   "name": "python",
   "nbconvert_exporter": "python",
   "pygments_lexer": "ipython3",
   "version": "3.9.7"
  }
 },
 "nbformat": 4,
 "nbformat_minor": 5
}
